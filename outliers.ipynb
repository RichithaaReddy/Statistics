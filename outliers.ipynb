{
  "nbformat": 4,
  "nbformat_minor": 0,
  "metadata": {
    "colab": {
      "provenance": [],
      "authorship_tag": "ABX9TyN2Go2B+61hQrlJbLWqLaCX",
      "include_colab_link": true
    },
    "kernelspec": {
      "name": "python3",
      "display_name": "Python 3"
    },
    "language_info": {
      "name": "python"
    }
  },
  "cells": [
    {
      "cell_type": "markdown",
      "metadata": {
        "id": "view-in-github",
        "colab_type": "text"
      },
      "source": [
        "<a href=\"https://colab.research.google.com/github/RichithaaReddy/stat/blob/main/outliers.ipynb\" target=\"_parent\"><img src=\"https://colab.research.google.com/assets/colab-badge.svg\" alt=\"Open In Colab\"/></a>"
      ]
    },
    {
      "cell_type": "code",
      "execution_count": 3,
      "metadata": {
        "id": "TnpNtXM0C81E"
      },
      "outputs": [],
      "source": [
        "#outliers"
      ]
    },
    {
      "cell_type": "code",
      "source": [
        "import numpy as np\n",
        "import matplotlib.pyplot as pyplot\n",
        "%matplotlib inline"
      ],
      "metadata": {
        "id": "WhUgSYh2C-WT"
      },
      "execution_count": 4,
      "outputs": []
    },
    {
      "cell_type": "code",
      "source": [
        "dataset = [10,107,109,9,10,11,14,13,17,11,16,9,9,13,15,9,11,10,18,18,19,19,15,15,13,12,12]"
      ],
      "metadata": {
        "id": "ftpUTZW-DA3H"
      },
      "execution_count": 5,
      "outputs": []
    },
    {
      "cell_type": "code",
      "source": [
        "pyplot.hist(dataset)"
      ],
      "metadata": {
        "colab": {
          "base_uri": "https://localhost:8080/",
          "height": 482
        },
        "id": "_cQOXQANGvf2",
        "outputId": "f6d587f1-5de4-4a63-c34e-237944ec7fa9"
      },
      "execution_count": 6,
      "outputs": [
        {
          "output_type": "execute_result",
          "data": {
            "text/plain": [
              "(array([23.,  2.,  0.,  0.,  0.,  0.,  0.,  0.,  0.,  2.]),\n",
              " array([  9.,  19.,  29.,  39.,  49.,  59.,  69.,  79.,  89.,  99., 109.]),\n",
              " <BarContainer object of 10 artists>)"
            ]
          },
          "metadata": {},
          "execution_count": 6
        },
        {
          "output_type": "display_data",
          "data": {
            "text/plain": [
              "<Figure size 640x480 with 1 Axes>"
            ],
            "image/png": "[encoded data removed]"
          },
          "metadata": {}
        }
      ]
    },
    {
      "cell_type": "code",
      "source": [
        "#finding outliers using zscore\n",
        "# according to emperical formula std1 = 68% std2=95% std3= 99.7%\n",
        "# therefore any deviation after 3 is an outlier"
      ],
      "metadata": {
        "id": "S4biKxlKDiXv"
      },
      "execution_count": 7,
      "outputs": []
    },
    {
      "cell_type": "code",
      "source": [
        "outliers = []\n",
        "def detect_outlier(data):\n",
        "  threshold = 3\n",
        "  mean = np.mean(data)\n",
        "  std = np.std(data)\n",
        "\n",
        "  for i in data:\n",
        "    zscore = (i - mean)/std\n",
        "    if np.abs(zscore) > threshold:\n",
        "      outliers.append(i)\n",
        "\n",
        "  return outliers"
      ],
      "metadata": {
        "id": "Mg8XZwY3Drjs"
      },
      "execution_count": 8,
      "outputs": []
    },
    {
      "cell_type": "code",
      "source": [
        "detect_outlier(dataset)"
      ],
      "metadata": {
        "colab": {
          "base_uri": "https://localhost:8080/"
        },
        "id": "QWyGUakOHJR2",
        "outputId": "e6141640-aaec-40bd-a7e4-a216db738d37"
      },
      "execution_count": 9,
      "outputs": [
        {
          "output_type": "execute_result",
          "data": {
            "text/plain": [
              "[107, 109]"
            ]
          },
          "metadata": {},
          "execution_count": 9
        }
      ]
    },
    {
      "cell_type": "markdown",
      "source": [],
      "metadata": {
        "id": "YWyGNaaIJ2XV"
      }
    },
    {
      "cell_type": "markdown",
      "source": [
        "#Finding outliers using IQR   \n",
        "1. q1=25%\n",
        "2. q3= 75%\n",
        "3. will find lowerfence and higherfence\n",
        "4. sort data\n",
        "5. calculate q1,q3\n",
        "6. find IQR = q3-q1\n",
        "7. find lf = q1 - 1.5(IQR)\n",
        "8. uf = q3 + 1.5(IQR)"
      ],
      "metadata": {
        "id": "TY1sTHUZJ4wY"
      }
    },
    {
      "cell_type": "code",
      "source": [
        "dataset = sorted(dataset)\n",
        "print(dataset)"
      ],
      "metadata": {
        "colab": {
          "base_uri": "https://localhost:8080/"
        },
        "id": "HS0kzTOnJNtg",
        "outputId": "a32a4334-8374-4a80-f7c8-81091eb785e3"
      },
      "execution_count": 10,
      "outputs": [
        {
          "output_type": "stream",
          "name": "stdout",
          "text": [
            "[9, 9, 9, 9, 10, 10, 10, 11, 11, 11, 12, 12, 13, 13, 13, 14, 15, 15, 15, 16, 17, 18, 18, 19, 19, 107, 109]\n"
          ]
        }
      ]
    },
    {
      "cell_type": "code",
      "source": [
        "#not this\n",
        "l = len(dataset) + 1\n",
        "q1_index = int(0.25 * l)\n",
        "\n",
        "# Calculate quartiles\n",
        "q1 = dataset[q1_index - 1]\n",
        "q3 = 10 - q1\n",
        "iqr = q3 - q1\n",
        "\n",
        "# Calculate lower fence (lf) and upper fence (uf)\n",
        "lf = q1 - 1.5 * iqr\n",
        "uf = q3 + 1.5 * iqr\n",
        "\n",
        "lf, uf\n"
      ],
      "metadata": {
        "colab": {
          "base_uri": "https://localhost:8080/"
        },
        "id": "mJGao4x1Kic4",
        "outputId": "87af1b75-6289-4640-ef91-a8c02993fda0"
      },
      "execution_count": 11,
      "outputs": [
        {
          "output_type": "execute_result",
          "data": {
            "text/plain": [
              "(25.0, -15.0)"
            ]
          },
          "metadata": {},
          "execution_count": 11
        }
      ]
    },
    {
      "cell_type": "code",
      "source": [
        "#usee this one\n",
        "q11,q33 = np.percentile(dataset,[25,75])\n",
        "iqrr = q33 - q11\n",
        "\n",
        "# Calculate lower fence (lf) and upper fence (uf)\n",
        "lff = q11 - (1.5 * iqrr)\n",
        "uff = q33 + (1.5 * iqrr)\n",
        "\n",
        "lff, uff\n"
      ],
      "metadata": {
        "colab": {
          "base_uri": "https://localhost:8080/"
        },
        "id": "yTpMyp6VMELq",
        "outputId": "177db5b8-a28a-4f49-dcc5-df46000dc1df"
      },
      "execution_count": 12,
      "outputs": [
        {
          "output_type": "execute_result",
          "data": {
            "text/plain": [
              "(1.5, 25.5)"
            ]
          },
          "metadata": {},
          "execution_count": 12
        }
      ]
    },
    {
      "cell_type": "code",
      "source": [
        "import seaborn as sns"
      ],
      "metadata": {
        "id": "QQZhmZOuPa2c"
      },
      "execution_count": 13,
      "outputs": []
    },
    {
      "cell_type": "code",
      "source": [
        "sns.boxplot(dataset)"
      ],
      "metadata": {
        "colab": {
          "base_uri": "https://localhost:8080/",
          "height": 447
        },
        "id": "Np3tf4SPyTBp",
        "outputId": "2a90e311-9201-4531-bf72-491d3ce79bcb"
      },
      "execution_count": 14,
      "outputs": [
        {
          "output_type": "execute_result",
          "data": {
            "text/plain": [
              "<Axes: >"
            ]
          },
          "metadata": {},
          "execution_count": 14
        },
        {
          "output_type": "display_data",
          "data": {
            "text/plain": [
              "<Figure size 640x480 with 1 Axes>"
            ],
            "image/png": "[encoded data removed]"
          },
          "metadata": {}
        }
      ]
    },
    {
      "cell_type": "code",
      "source": [],
      "metadata": {
        "id": "U-NbQR3jyjfZ"
      },
      "execution_count": null,
      "outputs": []
    }
  ]
}